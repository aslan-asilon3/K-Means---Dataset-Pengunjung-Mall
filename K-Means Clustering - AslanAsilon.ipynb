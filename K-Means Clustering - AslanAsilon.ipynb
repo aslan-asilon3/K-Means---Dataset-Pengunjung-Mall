{
 "cells": [
  {
   "cell_type": "code",
   "execution_count": null,
   "id": "ac6bca6e",
   "metadata": {},
   "outputs": [],
   "source": [
    "#STUDI KASUS\n",
    "disini saya akan mengimplementasikan metode k-means untuk sebuah permasalahan yang nyata dimana\n",
    "seperti seorang data scientist profesional yang diminta oleh seorang klient untuk menganalisis\n",
    "data pelanggan yang berkunjung ke mall nya. Mereka mendata pelanggan yang setia, namun mereka \n",
    "bingung bagaimana cara mengelompokan data-data nya, sehingga dengan pengelompokan pelanggan setia\n",
    "ini mereka dapat semakin memperkuat hubungan dengan konsumen. Misal untuk penguatan marketing, \n",
    "strategi penawaran yang tepat, barang-barang apa saja yang cocok bagi mereka."
   ]
  }
 ],
 "metadata": {
  "kernelspec": {
   "display_name": "Python 3",
   "language": "python",
   "name": "python3"
  },
  "language_info": {
   "codemirror_mode": {
    "name": "ipython",
    "version": 3
   },
   "file_extension": ".py",
   "mimetype": "text/x-python",
   "name": "python",
   "nbconvert_exporter": "python",
   "pygments_lexer": "ipython3",
   "version": "3.8.8"
  }
 },
 "nbformat": 4,
 "nbformat_minor": 5
}
